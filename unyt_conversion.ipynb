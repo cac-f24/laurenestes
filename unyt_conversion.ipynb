{
 "cells": [
  {
   "cell_type": "code",
   "execution_count": 60,
   "id": "57a177ce-bbdc-4fab-b32b-4a7bfbe04f8a",
   "metadata": {},
   "outputs": [],
   "source": [
    "from unyt import MeV,keV, eV, c, J, m, s, um, hm, MHz"
   ]
  },
  {
   "cell_type": "code",
   "execution_count": 77,
   "id": "3d154e95-15bb-4625-976c-4c2008be821a",
   "metadata": {},
   "outputs": [
    {
     "name": "stdout",
     "output_type": "stream",
     "text": [
      "momentum in eV/c: 10000000.000000002 eV /c\n",
      "momentum in kg*m/s: 5.34428575251216e-21 kg*m/s\n"
     ]
    }
   ],
   "source": [
    "#a)10 MeV/c to kg*m/s\n",
    "energy_in_mev = 10 * MeV\n",
    "energy_in_ev = energy_in_mev.to(eV)\n",
    "\n",
    "momentum_eV_c = 1 * energy_in_ev/ c\n",
    "momentum_kg_m_s = momentum_eV_c.to(\"kg*m/s\")\n",
    "\n",
    "print('momentum in eV/c:',momentum_eV_c*c,\"/c\")\n",
    "print('momentum in kg*m/s:',momentum_kg_m_s)"
   ]
  },
  {
   "cell_type": "code",
   "execution_count": 78,
   "id": "02c5dc6e-fb2e-47ee-a525-78b902397267",
   "metadata": {},
   "outputs": [
    {
     "name": "stdout",
     "output_type": "stream",
     "text": [
      "momentum in eV/c: 25000.0 eV /c\n",
      "momentum in kg*m/s: 1.33607143812804e-23 kg*m/s\n"
     ]
    }
   ],
   "source": [
    "#b) 25-keV X ray to eV/c\n",
    "energy_in_kev = 25* keV\n",
    "energy_in_ev = energy_in_kev.to(eV)\n",
    "\n",
    "momentum_eV_c = 1 * energy_in_ev/ c\n",
    "momentum_kg_m_s = momentum_eV_c.to(\"kg*m/s\")\n",
    "\n",
    "print('momentum in eV/c:',momentum_eV_c*c,\"/c\")\n",
    "print('momentum in kg*m/s:',momentum_kg_m_s)"
   ]
  },
  {
   "cell_type": "code",
   "execution_count": 79,
   "id": "566ba123-fb51-4045-a383-c7806ba46e87",
   "metadata": {},
   "outputs": [
    {
     "name": "stdout",
     "output_type": "stream",
     "text": [
      "momentum in eV/c: 1.239841931521966 eV /c\n",
      "momentum in kg*m/s: 6.6260695699999995e-28 kg*m/s\n"
     ]
    }
   ],
   "source": [
    "#c) 1.0-μm infrared photon momentum\n",
    "lambda_1 = 1*um\n",
    "E = (h*c)/lambda_1\n",
    "\n",
    "energy_in_ev = E.to(eV)\n",
    "momentum_eV_c = 1 * energy_in_ev/ c\n",
    "momentum_kg_m_s = momentum_eV_c.to(\"kg*m/s\")\n",
    "print('momentum in eV/c:',momentum_eV_c*c,\"/c\")\n",
    "print('momentum in kg*m/s:',momentum_kg_m_s)"
   ]
  },
  {
   "cell_type": "code",
   "execution_count": 80,
   "id": "a9b4c863-af70-45c5-900c-85336c61f882",
   "metadata": {},
   "outputs": [
    {
     "name": "stdout",
     "output_type": "stream",
     "text": [
      "momentum in eV/c: 6.203501281152807e-07 eV /c\n",
      "momentum in kg*m/s: 3.3153283512555874e-34 kg*m/s\n"
     ]
    }
   ],
   "source": [
    "#d) 150-MHz radio-wave photon's momentum\n",
    "f = 150 * MHz\n",
    "E = (h*f)\n",
    "energy_in_ev = E.to(eV)\n",
    "momentum_eV_c = 1 * energy_in_ev/c\n",
    "momentum_kg_m_s = momentum_eV_c.to(\"kg*m/s\")\n",
    "print('momentum in eV/c:',momentum_eV_c*c,\"/c\")\n",
    "print('momentum in kg*m/s:',momentum_kg_m_s)"
   ]
  }
 ],
 "metadata": {
  "kernelspec": {
   "display_name": "Python 3 (ipykernel)",
   "language": "python",
   "name": "python3"
  },
  "language_info": {
   "codemirror_mode": {
    "name": "ipython",
    "version": 3
   },
   "file_extension": ".py",
   "mimetype": "text/x-python",
   "name": "python",
   "nbconvert_exporter": "python",
   "pygments_lexer": "ipython3",
   "version": "3.12.4"
  }
 },
 "nbformat": 4,
 "nbformat_minor": 5
}
