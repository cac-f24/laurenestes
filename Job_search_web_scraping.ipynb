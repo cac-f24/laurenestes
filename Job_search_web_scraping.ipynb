{
 "cells": [
  {
   "cell_type": "code",
   "execution_count": 35,
   "id": "99e16465-e7a8-4996-b004-8ef1c09fd676",
   "metadata": {},
   "outputs": [],
   "source": [
    "# Required libraries\n",
    "import requests\n",
    "from bs4 import BeautifulSoup\n",
    "import re\n",
    "from collections import Counter\n",
    "#from pypdf import PdfReader\n",
    "import PyPDF2\n",
    "\n",
    "def scrape_jobs(url):\n",
    "    headers = {\n",
    "    \"User-Agent\": \"Mozilla/5.0 (Windows NT 10.0; Win64; x64) AppleWebKit/537.36 (KHTML, like Gecko) Chrome/85.0.4183.121 Safari/537.36\",\n",
    "    \"Accept-Language\": \"en-US,en;q=0.9\",\n",
    "    \"Referer\": \"https://www.google.com\",}\n",
    "    response = requests.get(url, headers=headers)\n",
    "    print(response)\n",
    "    if response.status_code == 200:\n",
    "        soup = BeautifulSoup(response.content, \"html.parser\")\n",
    "        job_listings = []\n",
    "        for job in soup.find_all(\"div\", class_=\"job-listing\"):  # Assuming each job is in a div class\n",
    "            title = job.find(\"h2\").text.strip()\n",
    "            description = job.find(\"p\", class_=\"job-description\").text.strip()\n",
    "            job_listings.append({\"title\": title, \"description\": description})\n",
    "        return job_listings\n",
    "    else:\n",
    "        print(f\"Failed to retrieve jobs: {response.status_code}\")\n",
    "        return []\n",
    "\n",
    "#reader = PdfReader(pdf_path)\n",
    "#page = reader.pages[0]\n",
    "#print(page.extract_text())\n",
    "\n",
    "\n",
    "    \n",
    "# Sample matching function\n",
    "def match_jobs(jobs, resume_keywords):\n",
    "    matched_jobs = []\n",
    "    pdf_path = \"/home/lestes/bsu/bsu/laurenestes/Resume.pdf\"\n",
    "    pdfFileObj = open(pdf_path,'rb')\n",
    "    pdfReader = PyPDF2.PdfFileReader(pdfFileObj)\n",
    "    num_of_pages = pdfReader.numPages \n",
    "    print(pdfFileObj)\n",
    "    count = 0 \n",
    "    text = \"\" \n",
    "    while count < num_of_pages: \n",
    "        pageObj = pdfReader.getPage(count) \n",
    "        count +=1 \n",
    "        text += pageObj.extractText() \n",
    "        #print(text)\n",
    "    for job in jobs:\n",
    "        job_keywords = re.findall(r'\\b\\w+\\b', job[\"description\"])\n",
    "        job_score = sum(resume_keywords.get(keyword, 0) for keyword in job_keywords)  # Count matching words\n",
    "        if job_score > 0:\n",
    "            matched_jobs.append((job, job_score))\n",
    "    \n",
    "    # Sort by relevance (highest score first)\n",
    "    matched_jobs.sort(key=lambda x: x[1], reverse=True)\n",
    "    return matched_jobs\n",
    "\n",
    "# Main script execution\n"
   ]
  },
  {
   "cell_type": "code",
   "execution_count": 36,
   "id": "c6434658-bf40-4072-a250-ed9b179293c5",
   "metadata": {},
   "outputs": [
    {
     "name": "stdout",
     "output_type": "stream",
     "text": [
      "<Response [403]>\n",
      "Failed to retrieve jobs: 403\n",
      "<_io.BufferedReader name='/home/lestes/bsu/bsu/laurenestes/Resume.pdf'>\n"
     ]
    }
   ],
   "source": [
    "if __name__ == \"__main__\":\n",
    "    resume_keywords = pdfFileObj # Replace with your resume file\n",
    "    jobs = scrape_jobs(\"https://www.indeed.com/jobs?q=&l=boise%2C+id&from=searchOnHP&vjk=c6ab465085b2bab8\")  \n",
    "    matched_jobs = match_jobs(jobs, resume_keywords)\n",
    "    for job, score in matched_jobs:\n",
    "        print(f\"Job Title: {job['title']}\\nMatch Score: {score}\\nDescription: {job['description']}\\n\")\n"
   ]
  },
  {
   "cell_type": "code",
   "execution_count": null,
   "id": "5381c019-8f07-4021-8b46-650ebe182f81",
   "metadata": {},
   "outputs": [],
   "source": []
  }
 ],
 "metadata": {
  "kernelspec": {
   "display_name": "Python 3 (ipykernel)",
   "language": "python",
   "name": "python3"
  },
  "language_info": {
   "codemirror_mode": {
    "name": "ipython",
    "version": 3
   },
   "file_extension": ".py",
   "mimetype": "text/x-python",
   "name": "python",
   "nbconvert_exporter": "python",
   "pygments_lexer": "ipython3",
   "version": "3.12.4"
  }
 },
 "nbformat": 4,
 "nbformat_minor": 5
}
