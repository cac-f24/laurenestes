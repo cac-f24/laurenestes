{
 "cells": [
  {
   "cell_type": "code",
   "execution_count": 2,
   "id": "99e16465-e7a8-4996-b004-8ef1c09fd676",
   "metadata": {},
   "outputs": [
    {
     "ename": "FileNotFoundError",
     "evalue": "[Errno 2] No such file or directory: 'Lauren Estes Resume October 2024.pdf'",
     "output_type": "error",
     "traceback": [
      "\u001b[0;31m---------------------------------------------------------------------------\u001b[0m",
      "\u001b[0;31mFileNotFoundError\u001b[0m                         Traceback (most recent call last)",
      "Cell \u001b[0;32mIn[2], line 46\u001b[0m\n\u001b[1;32m     44\u001b[0m \u001b[38;5;66;03m# Main script execution\u001b[39;00m\n\u001b[1;32m     45\u001b[0m \u001b[38;5;28;01mif\u001b[39;00m \u001b[38;5;18m__name__\u001b[39m \u001b[38;5;241m==\u001b[39m \u001b[38;5;124m\"\u001b[39m\u001b[38;5;124m__main__\u001b[39m\u001b[38;5;124m\"\u001b[39m:\n\u001b[0;32m---> 46\u001b[0m     resume_keywords \u001b[38;5;241m=\u001b[39m parse_resume(\u001b[38;5;124m\"\u001b[39m\u001b[38;5;124mLauren Estes Resume October 2024.pdf\u001b[39m\u001b[38;5;124m\"\u001b[39m)  \u001b[38;5;66;03m# Replace with your resume file\u001b[39;00m\n\u001b[1;32m     47\u001b[0m     jobs \u001b[38;5;241m=\u001b[39m scrape_jobs(\u001b[38;5;124m\"\u001b[39m\u001b[38;5;124mhttps://www.monster.com/\u001b[39m\u001b[38;5;124m\"\u001b[39m)  \u001b[38;5;66;03m# Replace with a real job listings page\u001b[39;00m\n\u001b[1;32m     48\u001b[0m     matched_jobs \u001b[38;5;241m=\u001b[39m match_jobs(jobs, resume_keywords)\n",
      "Cell \u001b[0;32mIn[2], line 26\u001b[0m, in \u001b[0;36mparse_resume\u001b[0;34m(file_path)\u001b[0m\n\u001b[1;32m     25\u001b[0m \u001b[38;5;28;01mdef\u001b[39;00m \u001b[38;5;21mparse_resume\u001b[39m(file_path):\n\u001b[0;32m---> 26\u001b[0m     \u001b[38;5;28;01mwith\u001b[39;00m \u001b[38;5;28mopen\u001b[39m(file_path, \u001b[38;5;124m'\u001b[39m\u001b[38;5;124mr\u001b[39m\u001b[38;5;124m'\u001b[39m) \u001b[38;5;28;01mas\u001b[39;00m f:\n\u001b[1;32m     27\u001b[0m         resume_text \u001b[38;5;241m=\u001b[39m f\u001b[38;5;241m.\u001b[39mread()\n\u001b[1;32m     28\u001b[0m         keywords \u001b[38;5;241m=\u001b[39m re\u001b[38;5;241m.\u001b[39mfindall(\u001b[38;5;124mr\u001b[39m\u001b[38;5;124m'\u001b[39m\u001b[38;5;124m\\\u001b[39m\u001b[38;5;124mb\u001b[39m\u001b[38;5;124m\\\u001b[39m\u001b[38;5;124mw+\u001b[39m\u001b[38;5;124m\\\u001b[39m\u001b[38;5;124mb\u001b[39m\u001b[38;5;124m'\u001b[39m, resume_text)  \u001b[38;5;66;03m# Extract words\u001b[39;00m\n",
      "File \u001b[0;32m~/miniconda3/envs/bsu/lib/python3.12/site-packages/IPython/core/interactiveshell.py:324\u001b[0m, in \u001b[0;36m_modified_open\u001b[0;34m(file, *args, **kwargs)\u001b[0m\n\u001b[1;32m    317\u001b[0m \u001b[38;5;28;01mif\u001b[39;00m file \u001b[38;5;129;01min\u001b[39;00m {\u001b[38;5;241m0\u001b[39m, \u001b[38;5;241m1\u001b[39m, \u001b[38;5;241m2\u001b[39m}:\n\u001b[1;32m    318\u001b[0m     \u001b[38;5;28;01mraise\u001b[39;00m \u001b[38;5;167;01mValueError\u001b[39;00m(\n\u001b[1;32m    319\u001b[0m         \u001b[38;5;124mf\u001b[39m\u001b[38;5;124m\"\u001b[39m\u001b[38;5;124mIPython won\u001b[39m\u001b[38;5;124m'\u001b[39m\u001b[38;5;124mt let you open fd=\u001b[39m\u001b[38;5;132;01m{\u001b[39;00mfile\u001b[38;5;132;01m}\u001b[39;00m\u001b[38;5;124m by default \u001b[39m\u001b[38;5;124m\"\u001b[39m\n\u001b[1;32m    320\u001b[0m         \u001b[38;5;124m\"\u001b[39m\u001b[38;5;124mas it is likely to crash IPython. If you know what you are doing, \u001b[39m\u001b[38;5;124m\"\u001b[39m\n\u001b[1;32m    321\u001b[0m         \u001b[38;5;124m\"\u001b[39m\u001b[38;5;124myou can use builtins\u001b[39m\u001b[38;5;124m'\u001b[39m\u001b[38;5;124m open.\u001b[39m\u001b[38;5;124m\"\u001b[39m\n\u001b[1;32m    322\u001b[0m     )\n\u001b[0;32m--> 324\u001b[0m \u001b[38;5;28;01mreturn\u001b[39;00m io_open(file, \u001b[38;5;241m*\u001b[39margs, \u001b[38;5;241m*\u001b[39m\u001b[38;5;241m*\u001b[39mkwargs)\n",
      "\u001b[0;31mFileNotFoundError\u001b[0m: [Errno 2] No such file or directory: 'Lauren Estes Resume October 2024.pdf'"
     ]
    }
   ],
   "source": [
    "# Required libraries\n",
    "import requests\n",
    "from bs4 import BeautifulSoup\n",
    "import re\n",
    "from collections import Counter\n",
    "\n",
    "# Sample function to scrape a job listing page\n",
    "def scrape_jobs(url):\n",
    "    headers = {\"User-Agent\": \"Mozilla/5.0\"}  # To mimic browser request\n",
    "    response = requests.get(url, headers=headers)\n",
    "    \n",
    "    if response.status_code == 200:\n",
    "        soup = BeautifulSoup(response.content, \"html.parser\")\n",
    "        job_listings = []\n",
    "        for job in soup.find_all(\"div\", class_=\"job-listing\"):  # Assuming each job is in a div class\n",
    "            title = job.find(\"h2\").text.strip()\n",
    "            description = job.find(\"p\", class_=\"job-description\").text.strip()\n",
    "            job_listings.append({\"title\": title, \"description\": description})\n",
    "        return job_listings\n",
    "    else:\n",
    "        print(f\"Failed to retrieve jobs: {response.status_code}\")\n",
    "        return []\n",
    "\n",
    "# Sample function to parse the resume for keywords\n",
    "def parse_resume(file_path):\n",
    "    with open(file_path, 'r') as f:\n",
    "        resume_text = f.read()\n",
    "        keywords = re.findall(r'\\b\\w+\\b', resume_text)  # Extract words\n",
    "        return Counter(keywords)  # Count word occurrences (skills, etc.)\n",
    "\n",
    "# Sample matching function\n",
    "def match_jobs(jobs, resume_keywords):\n",
    "    matched_jobs = []\n",
    "    for job in jobs:\n",
    "        job_keywords = re.findall(r'\\b\\w+\\b', job[\"description\"])\n",
    "        job_score = sum(resume_keywords.get(keyword, 0) for keyword in job_keywords)  # Count matching words\n",
    "        if job_score > 0:\n",
    "            matched_jobs.append((job, job_score))\n",
    "    \n",
    "    # Sort by relevance (highest score first)\n",
    "    matched_jobs.sort(key=lambda x: x[1], reverse=True)\n",
    "    return matched_jobs\n",
    "\n",
    "# Main script execution\n",
    "if __name__ == \"__main__\":\n",
    "    resume_keywords = parse_resume(\"Lauren Estes Resume October 2024.pdf\")  # Replace with your resume file\n",
    "    jobs = scrape_jobs(\"https://www.monster.com/\")  # Replace with a real job listings page\n",
    "    matched_jobs = match_jobs(jobs, resume_keywords)\n",
    "    \n",
    "    for job, score in matched_jobs:\n",
    "        print(f\"Job Title: {job['title']}\\nMatch Score: {score}\\nDescription: {job['description']}\\n\")\n"
   ]
  },
  {
   "cell_type": "code",
   "execution_count": null,
   "id": "5381c019-8f07-4021-8b46-650ebe182f81",
   "metadata": {},
   "outputs": [],
   "source": []
  }
 ],
 "metadata": {
  "kernelspec": {
   "display_name": "Python 3 (ipykernel)",
   "language": "python",
   "name": "python3"
  },
  "language_info": {
   "codemirror_mode": {
    "name": "ipython",
    "version": 3
   },
   "file_extension": ".py",
   "mimetype": "text/x-python",
   "name": "python",
   "nbconvert_exporter": "python",
   "pygments_lexer": "ipython3",
   "version": "3.12.4"
  }
 },
 "nbformat": 4,
 "nbformat_minor": 5
}
